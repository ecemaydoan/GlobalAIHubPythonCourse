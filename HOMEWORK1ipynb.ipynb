{
  "nbformat": 4,
  "nbformat_minor": 0,
  "metadata": {
    "colab": {
      "name": "HW1ipynb",
      "provenance": [],
      "authorship_tag": "ABX9TyO5k4089xnlvQms227cAgl6",
      "include_colab_link": true
    },
    "kernelspec": {
      "name": "python3",
      "display_name": "Python 3"
    }
  },
  "cells": [
    {
      "cell_type": "markdown",
      "metadata": {
        "id": "view-in-github",
        "colab_type": "text"
      },
      "source": [
        "<a href=\"https://colab.research.google.com/github/ecemaydoan/GlobalAIHubPythonCourse/blob/main/HOMEWORK1ipynb.ipynb\" target=\"_parent\"><img src=\"https://colab.research.google.com/assets/colab-badge.svg\" alt=\"Open In Colab\"/></a>"
      ]
    },
    {
      "cell_type": "code",
      "metadata": {
        "colab": {
          "base_uri": "https://localhost:8080/"
        },
        "id": "ch3Nt3IBXt4v",
        "outputId": "3be026ac-ff0c-4e58-c1d7-78ec4c12d605"
      },
      "source": [
        "#generate a 3X3 matrix with random 9 prime number\r\n",
        "import numpy as np\r\n",
        "from numpy import random\r\n",
        "arr = np.array([2,3,5,7,11,13,17,19])\r\n",
        "b = random.choice(arr,size=(3,3))\r\n",
        "b"
      ],
      "execution_count": 9,
      "outputs": [
        {
          "output_type": "execute_result",
          "data": {
            "text/plain": [
              "array([[ 5, 19,  7],\n",
              "       [ 3, 13,  2],\n",
              "       [ 7, 19, 11]])"
            ]
          },
          "metadata": {
            "tags": []
          },
          "execution_count": 9
        }
      ]
    }
  ]
}